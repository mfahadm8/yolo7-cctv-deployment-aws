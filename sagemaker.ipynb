{
 "cells": [
  {
   "cell_type": "code",
   "execution_count": null,
   "metadata": {},
   "outputs": [],
   "source": [
    "\n",
    "!pip install boto3 sagemaker\n"
   ]
  },
  {
   "cell_type": "code",
   "execution_count": 1,
   "metadata": {},
   "outputs": [
    {
     "name": "stdout",
     "output_type": "stream",
     "text": [
      "ca-central-1\n",
      "async-inference\n"
     ]
    }
   ],
   "source": [
    "import sagemaker\n",
    "from sagemaker.pytorch import PyTorchModel\n",
    "import boto3\n",
    "import datetime\n",
    "import time\n",
    "from time import strftime,gmtime\n",
    "import json\n",
    "import os\n",
    "import urllib\n",
    "import sys\n",
    "import io\n",
    "\n",
    "boto_session = boto3.session.Session()\n",
    "sm_session = sagemaker.session.Session()\n",
    "sm_client = boto_session.client(\"sagemaker\")\n",
    "sm_runtime = boto_session.client(\"sagemaker-runtime\")\n",
    "region = boto_session.region_name\n",
    "sns_client = boto3.client('sns',region_name=region)\n",
    "\n",
    "bucket=\"sm-ball-tracking-output-blobs\"\n",
    "prefix = 'async-inference'\n",
    "\n",
    "print(region)\n",
    "print(prefix)"
   ]
  },
  {
   "cell_type": "markdown",
   "metadata": {},
   "source": [
    "### Delete Role"
   ]
  },
  {
   "cell_type": "code",
   "execution_count": 24,
   "metadata": {},
   "outputs": [
    {
     "name": "stdout",
     "output_type": "stream",
     "text": [
      "Detached policy: arn:aws:iam::aws:policy/AmazonSNSFullAccess\n",
      "Detached policy: arn:aws:iam::aws:policy/AmazonSageMakerFullAccess\n",
      "Detached policy: arn:aws:iam::aws:policy/AmazonS3FullAccess\n"
     ]
    }
   ],
   "source": [
    "import boto3\n",
    "import json\n",
    "from botocore.exceptions import ClientError\n",
    "\n",
    "# Specify the role name\n",
    "role_name = 'SageMaker-Role'\n",
    "\n",
    "# Create an IAM client\n",
    "iam_client = boto3.client('iam')\n",
    "\n",
    "try:\n",
    "    response = iam_client.list_attached_role_policies(RoleName=role_name)\n",
    "    attached_policies = response['AttachedPolicies']\n",
    "    # Detach policies\n",
    "    for policy in attached_policies:\n",
    "        policy_arn = policy['PolicyArn']\n",
    "        iam_client.detach_role_policy(RoleName=role_name, PolicyArn=policy_arn)\n",
    "        print(f\"Detached policy: {policy_arn}\")\n",
    "\n",
    "# Delete inline policies\n",
    "    iam_client.delete_role(RoleName=role_name)\n",
    "except Exception as e:\n",
    "    print(e)"
   ]
  },
  {
   "cell_type": "markdown",
   "metadata": {},
   "source": [
    "### Create Role"
   ]
  },
  {
   "cell_type": "code",
   "execution_count": 25,
   "metadata": {},
   "outputs": [
    {
     "name": "stdout",
     "output_type": "stream",
     "text": [
      "SageMaker role created successfully: arn:aws:iam::800241512715:role/SageMaker-Role\n",
      "Attached policy arn:aws:iam::aws:policy/AmazonSageMakerFullAccess to the role.\n",
      "Attached policy arn:aws:iam::aws:policy/AmazonS3FullAccess to the role.\n",
      "Attached policy arn:aws:iam::aws:policy/AmazonSNSFullAccess to the role.\n"
     ]
    }
   ],
   "source": [
    "import boto3\n",
    "import json\n",
    "from botocore.exceptions import ClientError\n",
    "\n",
    "# Specify the role name\n",
    "role_name = 'SageMaker-Role'\n",
    "\n",
    "# Managed policies for SageMaker\n",
    "managed_policy_arns = [\n",
    "    'arn:aws:iam::aws:policy/AmazonSageMakerFullAccess',\n",
    "    'arn:aws:iam::aws:policy/AmazonS3FullAccess',\n",
    "    'arn:aws:iam::aws:policy/AmazonSNSFullAccess'\n",
    "]\n",
    "\n",
    "# Create an IAM client\n",
    "iam_client = boto3.client('iam')\n",
    "    \n",
    "# Create the role\n",
    "try:\n",
    "    assume_role_policy_document = {\n",
    "        \"Version\": \"2012-10-17\",\n",
    "        \"Statement\": [\n",
    "            {\n",
    "                \"Effect\": \"Allow\",\n",
    "                \"Principal\": {\n",
    "                    \"Service\": \"sagemaker.amazonaws.com\"\n",
    "                },\n",
    "                \"Action\": \"sts:AssumeRole\"\n",
    "            }\n",
    "        ]\n",
    "    }\n",
    "    \n",
    "    create_role_response = iam_client.create_role(\n",
    "        RoleName=role_name,\n",
    "        AssumeRolePolicyDocument=json.dumps(assume_role_policy_document)\n",
    "    )\n",
    "    print(\"SageMaker role created successfully:\", create_role_response['Role']['Arn'])\n",
    "    \n",
    "    # Attach managed policies to the role\n",
    "    for policy_arn in managed_policy_arns:\n",
    "        iam_client.attach_role_policy(\n",
    "            RoleName=role_name,\n",
    "            PolicyArn=policy_arn\n",
    "        )\n",
    "        print(f\"Attached policy {policy_arn} to the role.\")\n",
    "\n",
    "except ClientError as e:\n",
    "    if e.response['Error']['Code'] == 'EntityAlreadyExists':\n",
    "        print(\"Role with the same name already exists.\")\n",
    "    else:\n",
    "        print(\"Error creating SageMaker role:\", e)\n"
   ]
  },
  {
   "cell_type": "code",
   "execution_count": 26,
   "metadata": {},
   "outputs": [],
   "source": [
    "role_arn = create_role_response['Role']['Arn']"
   ]
  },
  {
   "cell_type": "code",
   "execution_count": 2,
   "metadata": {},
   "outputs": [],
   "source": [
    "role_arn=\"arn:aws:iam::800241512715:role/SageMaker-Role\""
   ]
  },
  {
   "cell_type": "markdown",
   "metadata": {},
   "source": [
    "### Create Failure and Success Notification Topic"
   ]
  },
  {
   "cell_type": "code",
   "execution_count": 41,
   "metadata": {},
   "outputs": [
    {
     "name": "stdout",
     "output_type": "stream",
     "text": [
      "arn:aws:sns:ca-central-1:800241512715:Async-ML-ErrorTopic\n"
     ]
    }
   ],
   "source": [
    "response = sns_client.create_topic(Name=\"Async-ML-ErrorTopic\")\n",
    "error_topic= response['TopicArn']\n",
    "print(error_topic)"
   ]
  },
  {
   "cell_type": "code",
   "execution_count": 42,
   "metadata": {},
   "outputs": [
    {
     "name": "stdout",
     "output_type": "stream",
     "text": [
      "arn:aws:sns:ca-central-1:800241512715:Async-ML-SuccessTopic\n"
     ]
    }
   ],
   "source": [
    "response = sns_client.create_topic(Name=\"Async-ML-SuccessTopic\")\n",
    "success_topic = response['TopicArn']\n",
    "print(success_topic)"
   ]
  },
  {
   "cell_type": "code",
   "execution_count": 43,
   "metadata": {},
   "outputs": [
    {
     "name": "stdout",
     "output_type": "stream",
     "text": [
      "[{'TopicArn': 'arn:aws:sns:ca-central-1:800241512715:Async-ML-ErrorTopic'}, {'TopicArn': 'arn:aws:sns:ca-central-1:800241512715:Async-ML-SuccessTopic'}, {'TopicArn': 'arn:aws:sns:ca-central-1:800241512715:Test-VoD-v120-NotificationSnsTopicB941FD22-lz6dg1qRRgHh'}, {'TopicArn': 'arn:aws:sns:ca-central-1:800241512715:aws-controltower-SecurityNotifications'}, {'TopicArn': 'arn:aws:sns:ca-central-1:800241512715:test-new-videos'}]\n"
     ]
    }
   ],
   "source": [
    "response = sns_client.list_topics()\n",
    "topics = response[\"Topics\"]\n",
    "print(topics)"
   ]
  },
  {
   "cell_type": "code",
   "execution_count": 44,
   "metadata": {},
   "outputs": [],
   "source": [
    "\n",
    "\n",
    "email_id = 'mfahadm8@gmail.com'\n",
    "email_sub_1 = sns_client.subscribe(\n",
    "    TopicArn=success_topic,\n",
    "    Protocol='email',\n",
    "    Endpoint=email_id)\n",
    "\n",
    "email_sub_2 = sns_client.subscribe(\n",
    "    TopicArn=error_topic,\n",
    "    Protocol='email',\n",
    "    Endpoint=email_id)\n"
   ]
  },
  {
   "cell_type": "markdown",
   "metadata": {},
   "source": [
    "## Async Endpoint Creation Step By Step"
   ]
  },
  {
   "cell_type": "markdown",
   "metadata": {},
   "source": [
    "#### Create/Update Model Artifacts in S3"
   ]
  },
  {
   "cell_type": "code",
   "execution_count": 6,
   "metadata": {},
   "outputs": [],
   "source": [
    "!rm -f model.tar.gz"
   ]
  },
  {
   "cell_type": "code",
   "execution_count": 7,
   "metadata": {},
   "outputs": [],
   "source": [
    "!tar -czvf model.tar.gz yolov7.pt code >> /dev/null 2>&1\n",
    "!aws s3 cp model.tar.gz s3://sm-ball-tracking-inputs/models/ >> /dev/null 2>&1"
   ]
  },
  {
   "cell_type": "markdown",
   "metadata": {},
   "source": [
    "###  Model Config Creation In Sagemaker"
   ]
  },
  {
   "cell_type": "code",
   "execution_count": 45,
   "metadata": {},
   "outputs": [
    {
     "name": "stdout",
     "output_type": "stream",
     "text": [
      "763104351884.dkr.ecr.ca-central-1.amazonaws.com/pytorch-inference:1.12-cpu-py38\n"
     ]
    }
   ],
   "source": [
    "from sagemaker.image_uris import retrieve\n",
    "\n",
    "deploy_instance_type = 'ml.c5.xlarge'\n",
    "pytorch_inference_image_uri = retrieve('pytorch',\n",
    "                                       region,\n",
    "                                       version='1.12',\n",
    "                                       py_version='py38',\n",
    "                                       instance_type = deploy_instance_type,\n",
    "                                       accelerator_type=None,\n",
    "                                       image_scope='inference')\n",
    "print(pytorch_inference_image_uri)"
   ]
  },
  {
   "cell_type": "code",
   "execution_count": 46,
   "metadata": {},
   "outputs": [],
   "source": [
    "try:\n",
    "    model_name = 'ball-tracking-yolo7'\n",
    "    create_model_response = sm_client.delete_model( ModelName = model_name)\n",
    "except:\n",
    "    print(\"Model not found!\")"
   ]
  },
  {
   "cell_type": "code",
   "execution_count": 47,
   "metadata": {},
   "outputs": [
    {
     "name": "stdout",
     "output_type": "stream",
     "text": [
      "763104351884.dkr.ecr.ca-central-1.amazonaws.com/pytorch-inference:1.12-cpu-py38\n",
      "ball-tracking-yolo7\n"
     ]
    }
   ],
   "source": [
    "container = pytorch_inference_image_uri\n",
    "model_artifact=\"s3://sm-ball-tracking-inputs/models/model.tar.gz\"\n",
    "model_name = 'ball-tracking-yolo7'\n",
    "print(container)\n",
    "print(model_name)\n",
    "\n",
    "create_model_response = sm_client.create_model(\n",
    "    ModelName = model_name,\n",
    "    ExecutionRoleArn = role_arn,\n",
    "    PrimaryContainer = {\n",
    "        'Image': container,\n",
    "        'ModelDataUrl': model_artifact,\n",
    "        'Mode': 'SingleModel',\n",
    "        'Environment': {\n",
    "            'SAGEMAKER_CONTAINER_LOG_LEVEL':'20',\n",
    "            'SAGEMAKER_PROGRAM':'inference.py',\n",
    "            'SAGEMAKER_REGION':region,\n",
    "            'SAGEMAKER_SUBMIT_DIRECTORY':'/opt/ml/model/code',\n",
    "            'TS_MAX_REQUEST_SIZE': '100000000', #default max request size is 6 Mb for torchserve, need to update it to support the 70 mb input payload\n",
    "            'TS_MAX_RESPONSE_SIZE': '100000000',\n",
    "            'TS_DEFAULT_RESPONSE_TIMEOUT': '1000'\n",
    "        }\n",
    "    },    \n",
    ")"
   ]
  },
  {
   "cell_type": "markdown",
   "metadata": {},
   "source": [
    "### Endpoint Config Creation For Sagemaker"
   ]
  },
  {
   "cell_type": "code",
   "execution_count": 48,
   "metadata": {},
   "outputs": [
    {
     "name": "stdout",
     "output_type": "stream",
     "text": [
      "Endpoint Configuratoin not found!\n"
     ]
    }
   ],
   "source": [
    "try:\n",
    "    endpoint_config_name = \"BallTrackingV7AsyncEndpointConfig\"\n",
    "    create_endpoint_config_response = sm_client.delete_endpoint_config(\n",
    "    EndpointConfigName=endpoint_config_name\n",
    "    )\n",
    "except:\n",
    "    print(\"Endpoint Configuratoin not found!\")"
   ]
  },
  {
   "cell_type": "code",
   "execution_count": 49,
   "metadata": {},
   "outputs": [
    {
     "name": "stdout",
     "output_type": "stream",
     "text": [
      "ball-tracking-yolo7\n"
     ]
    },
    {
     "name": "stdout",
     "output_type": "stream",
     "text": [
      "Created EndpointConfig: arn:aws:sagemaker:ca-central-1:800241512715:endpoint-config/balltrackingv7asyncendpointconfig\n"
     ]
    }
   ],
   "source": [
    "print(model_name)\n",
    "endpoint_config_name = \"BallTrackingV7AsyncEndpointConfig\"\n",
    "create_endpoint_config_response = sm_client.create_endpoint_config(\n",
    "    EndpointConfigName=endpoint_config_name,\n",
    "    ProductionVariants=[\n",
    "        {\n",
    "            \"VariantName\": \"variant1\",\n",
    "            \"ModelName\": model_name,\n",
    "            \"InstanceType\": \"ml.c5.xlarge\",\n",
    "            \"InitialInstanceCount\": 1\n",
    "        }\n",
    "    ],\n",
    "    AsyncInferenceConfig={\n",
    "        \"OutputConfig\": {\n",
    "            \"S3OutputPath\": f\"s3://{bucket}/{prefix}/output\",\n",
    "            #  Optionally specify Amazon SNS topics\n",
    "            \"NotificationConfig\": {\n",
    "              \"SuccessTopic\": success_topic,\n",
    "              \"ErrorTopic\": error_topic,\n",
    "            },\n",
    "            \"S3FailurePath\": f\"s3://{bucket}/{prefix}/failure\",\n",
    "        },\n",
    "        \"ClientConfig\": {\n",
    "            \"MaxConcurrentInvocationsPerInstance\": 2\n",
    "        }\n",
    "    }\n",
    ")\n",
    "print(f\"Created EndpointConfig: {create_endpoint_config_response['EndpointConfigArn']}\")"
   ]
  },
  {
   "cell_type": "markdown",
   "metadata": {},
   "source": [
    "### Endpoint Creation"
   ]
  },
  {
   "cell_type": "markdown",
   "metadata": {},
   "source": [
    "deleting existing endpoint"
   ]
  },
  {
   "cell_type": "code",
   "execution_count": 13,
   "metadata": {},
   "outputs": [],
   "source": [
    "try:\n",
    "    endpoint_name = \"ball-tracking-v7\"\n",
    "    sm_client.delete_endpoint(EndpointName=endpoint_name)\n",
    "except Exception as e:\n",
    "    print(e)"
   ]
  },
  {
   "cell_type": "code",
   "execution_count": 14,
   "metadata": {},
   "outputs": [
    {
     "name": "stdout",
     "output_type": "stream",
     "text": [
      "Creating Endpoint: arn:aws:sagemaker:ca-central-1:800241512715:endpoint/ball-tracking-v7\n"
     ]
    }
   ],
   "source": [
    "endpoint_name = \"ball-tracking-v7\"\n",
    "endpoint_config_name= \"BallTrackingV7AsyncEndpointConfig\"\n",
    "create_endpoint_response = sm_client.create_endpoint(EndpointName=endpoint_name, EndpointConfigName=endpoint_config_name)\n",
    "print(f\"Creating Endpoint: {create_endpoint_response['EndpointArn']}\")"
   ]
  },
  {
   "cell_type": "code",
   "execution_count": 55,
   "metadata": {},
   "outputs": [
    {
     "name": "stdout",
     "output_type": "stream",
     "text": [
      "Waiting for endpoint to create...\n"
     ]
    },
    {
     "ename": "WaiterError",
     "evalue": "Waiter EndpointInService failed: Waiter encountered a terminal failure state: Matched expected service error code: ValidationException",
     "output_type": "error",
     "traceback": [
      "\u001b[0;31m---------------------------------------------------------------------------\u001b[0m",
      "\u001b[0;31mWaiterError\u001b[0m                               Traceback (most recent call last)",
      "Cell \u001b[0;32mIn[55], line 3\u001b[0m\n\u001b[1;32m      1\u001b[0m waiter \u001b[39m=\u001b[39m boto3\u001b[39m.\u001b[39mclient(\u001b[39m'\u001b[39m\u001b[39msagemaker\u001b[39m\u001b[39m'\u001b[39m)\u001b[39m.\u001b[39mget_waiter(\u001b[39m'\u001b[39m\u001b[39mendpoint_in_service\u001b[39m\u001b[39m'\u001b[39m)\n\u001b[1;32m      2\u001b[0m \u001b[39mprint\u001b[39m(\u001b[39m\"\u001b[39m\u001b[39mWaiting for endpoint to create...\u001b[39m\u001b[39m\"\u001b[39m)\n\u001b[0;32m----> 3\u001b[0m waiter\u001b[39m.\u001b[39;49mwait(EndpointName\u001b[39m=\u001b[39;49mendpoint_name)\n\u001b[1;32m      4\u001b[0m resp \u001b[39m=\u001b[39m sm_client\u001b[39m.\u001b[39mdescribe_endpoint(EndpointName\u001b[39m=\u001b[39mendpoint_name)\n\u001b[1;32m      5\u001b[0m \u001b[39mprint\u001b[39m(\u001b[39mf\u001b[39m\u001b[39m\"\u001b[39m\u001b[39mEndpoint Status: \u001b[39m\u001b[39m{\u001b[39;00mresp[\u001b[39m'\u001b[39m\u001b[39mEndpointStatus\u001b[39m\u001b[39m'\u001b[39m]\u001b[39m}\u001b[39;00m\u001b[39m\"\u001b[39m)\n",
      "File \u001b[0;32m~/yolo7-cctv-deployment-aws/.venv/lib/python3.9/site-packages/botocore/waiter.py:55\u001b[0m, in \u001b[0;36mcreate_waiter_with_client.<locals>.wait\u001b[0;34m(self, **kwargs)\u001b[0m\n\u001b[1;32m     54\u001b[0m \u001b[39mdef\u001b[39;00m \u001b[39mwait\u001b[39m(\u001b[39mself\u001b[39m, \u001b[39m*\u001b[39m\u001b[39m*\u001b[39mkwargs):\n\u001b[0;32m---> 55\u001b[0m     Waiter\u001b[39m.\u001b[39;49mwait(\u001b[39mself\u001b[39;49m, \u001b[39m*\u001b[39;49m\u001b[39m*\u001b[39;49mkwargs)\n",
      "File \u001b[0;32m~/yolo7-cctv-deployment-aws/.venv/lib/python3.9/site-packages/botocore/waiter.py:375\u001b[0m, in \u001b[0;36mWaiter.wait\u001b[0;34m(self, **kwargs)\u001b[0m\n\u001b[1;32m    371\u001b[0m \u001b[39mif\u001b[39;00m current_state \u001b[39m==\u001b[39m \u001b[39m'\u001b[39m\u001b[39mfailure\u001b[39m\u001b[39m'\u001b[39m:\n\u001b[1;32m    372\u001b[0m     reason \u001b[39m=\u001b[39m \u001b[39m'\u001b[39m\u001b[39mWaiter encountered a terminal failure state: \u001b[39m\u001b[39m%s\u001b[39;00m\u001b[39m'\u001b[39m \u001b[39m%\u001b[39m (\n\u001b[1;32m    373\u001b[0m         acceptor\u001b[39m.\u001b[39mexplanation\n\u001b[1;32m    374\u001b[0m     )\n\u001b[0;32m--> 375\u001b[0m     \u001b[39mraise\u001b[39;00m WaiterError(\n\u001b[1;32m    376\u001b[0m         name\u001b[39m=\u001b[39m\u001b[39mself\u001b[39m\u001b[39m.\u001b[39mname,\n\u001b[1;32m    377\u001b[0m         reason\u001b[39m=\u001b[39mreason,\n\u001b[1;32m    378\u001b[0m         last_response\u001b[39m=\u001b[39mresponse,\n\u001b[1;32m    379\u001b[0m     )\n\u001b[1;32m    380\u001b[0m \u001b[39mif\u001b[39;00m num_attempts \u001b[39m>\u001b[39m\u001b[39m=\u001b[39m max_attempts:\n\u001b[1;32m    381\u001b[0m     \u001b[39mif\u001b[39;00m last_matched_acceptor \u001b[39mis\u001b[39;00m \u001b[39mNone\u001b[39;00m:\n",
      "\u001b[0;31mWaiterError\u001b[0m: Waiter EndpointInService failed: Waiter encountered a terminal failure state: Matched expected service error code: ValidationException"
     ]
    }
   ],
   "source": [
    "waiter = boto3.client('sagemaker').get_waiter('endpoint_in_service')\n",
    "print(\"Waiting for endpoint to create...\")\n",
    "waiter.wait(EndpointName=endpoint_name)\n",
    "resp = sm_client.describe_endpoint(EndpointName=endpoint_name)\n",
    "print(f\"Endpoint Status: {resp['EndpointStatus']}\")"
   ]
  },
  {
   "cell_type": "markdown",
   "metadata": {},
   "source": [
    "## Testing"
   ]
  },
  {
   "cell_type": "code",
   "execution_count": 17,
   "metadata": {},
   "outputs": [],
   "source": [
    "from sagemaker.predictor_async import AsyncPredictor\n",
    "from sagemaker.predictor import Predictor\n",
    "from sagemaker.serializers import JSONSerializer\n",
    "import uuid\n",
    "import os\n",
    "\n",
    "LABELS_BUCKET=\"lightsketch-models-188775091215\"\n",
    "VIDEO_BUCKET=\"lightsketch-models-188775091215\"\n",
    "input_video_uri='s3://lightsketch-models-188775091215/models/20200616_VB_trim.mp4'\n",
    "inference_id=str(uuid.uuid4())\n",
    "endpoint_name=\"ball-tracking-v7\"\n",
    "predictor=Predictor(endpoint_name=endpoint_name,sagemaker_session=sm_session,serializer=JSONSerializer())\n",
    "async_predictor = AsyncPredictor(predictor=predictor)\n",
    "s3_input_path_without_prefix = input_video_uri[len(\"s3://\"):]\n",
    "input_bucket_name, input_key = s3_input_path_without_prefix.split('/', 1)\n",
    "input_base_file = os.path.basename(input_key)\n",
    "input_base_filename= os.path.splitext(input_base_file)[0]\n",
    "\n",
    "input_data = {\n",
    "    'input_location': input_video_uri,\n",
    "    'output_label_location':  \"s3://\"+LABELS_BUCKET+\"/\"+inference_id+\"/\"+input_base_filename+\".csv\",\n",
    "    'output_video_location':  \"s3://\"+VIDEO_BUCKET+\"/\"+inference_id+\"/\"+input_base_file\n",
    "}\n",
    "\n",
    "\n",
    "input_s3_uri=f\"s3://{bucket}/{prefix}/input/{inference_id}.json\"\n",
    "# Call the predict method to send the input data to the endpoint asynchronously\n",
    "response = async_predictor.predict_async(data=input_data,input_path=input_s3_uri,inference_id=inference_id)\n"
   ]
  },
  {
   "cell_type": "code",
   "execution_count": 20,
   "metadata": {},
   "outputs": [
    {
     "name": "stdout",
     "output_type": "stream",
     "text": [
      "Traceback (most recent call last):\n",
      "  File \"/opt/ml/model/code/inference.py\", line 75, in transform_fn\n",
      "    ouput_path= detect(local_filename,model,output_label_location,output_video_location)\n",
      "  File \"/opt/ml/model/code/inference.py\", line 215, in detect\n",
      "    online_targets = tracker.update(np.array(dets), [old_img_w, old_img_h], (img.shape[3], img.shape[2]))\n",
      "  File \"/opt/ml/model/code/tracker/byte_tracker.py\", line 168, in update\n",
      "    if output_results.shape[1] == 5:\n",
      "IndexError: tuple index out of range\n",
      "\n"
     ]
    }
   ],
   "source": [
    "\n",
    "result=response.get_result().decode('utf-8')\n",
    "error_message = json.loads(result)[\"Error\"]\n",
    "print(error_message)"
   ]
  }
 ],
 "metadata": {
  "kernelspec": {
   "display_name": "Python 3",
   "language": "python",
   "name": "python3"
  },
  "language_info": {
   "codemirror_mode": {
    "name": "ipython",
    "version": 3
   },
   "file_extension": ".py",
   "mimetype": "text/x-python",
   "name": "python",
   "nbconvert_exporter": "python",
   "pygments_lexer": "ipython3",
   "version": "3.9.4"
  },
  "orig_nbformat": 4
 },
 "nbformat": 4,
 "nbformat_minor": 2
}
